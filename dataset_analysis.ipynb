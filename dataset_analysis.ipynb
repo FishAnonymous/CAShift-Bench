{
 "cells": [
  {
   "cell_type": "code",
   "execution_count": 1,
   "metadata": {},
   "outputs": [],
   "source": [
    "import os\n",
    "from glob import glob\n",
    "from typing import List\n",
    "from datetime import datetime\n",
    "from multiprocessing import Pool\n",
    "\n",
    "import pandas as pd"
   ]
  },
  {
   "cell_type": "markdown",
   "metadata": {},
   "source": [
    "# Dataset Analysis"
   ]
  },
  {
   "cell_type": "markdown",
   "metadata": {},
   "source": [
    "### Train Normal Data"
   ]
  },
  {
   "cell_type": "code",
   "execution_count": 45,
   "metadata": {},
   "outputs": [
    {
     "name": "stdout",
     "output_type": "stream",
     "text": [
      "61\n",
      "        syscall  average_frequency\n",
      "42  epoll_pwait           1122.941\n",
      "43   newfstatat           1024.087\n",
      "34         read           1014.409\n",
      "41    epoll_ctl           1012.722\n",
      "39        futex            960.275\n",
      "38       switch            928.119\n",
      "35    nanosleep            827.794\n",
      "24        fcntl            628.712\n",
      "37       openat            575.209\n",
      "36        close            515.302\n"
     ]
    }
   ],
   "source": [
    "\n",
    "train_path = \"./data-test/CAShift-CSV/train\"\n",
    "train_file_number = 1000\n",
    "\n",
    "all_frequencies = {}\n",
    "for i in range(train_file_number):\n",
    "    train_df = pd.read_csv(f\"{train_path}/normal_{i}.csv\")\n",
    "    frequency = train_df['SysCall'].value_counts(ascending=True)\n",
    "    for syscall, freq in frequency.items():\n",
    "        if syscall not in all_frequencies:\n",
    "            all_frequencies[syscall] = []\n",
    "        all_frequencies[syscall].append(freq)\n",
    "\n",
    "pd.set_option('display.max_rows', None)\n",
    "pd.set_option('display.max_columns', None)\n",
    "average_frequencies = {syscall: sum(freq_list) / train_file_number for syscall, freq_list in all_frequencies.items()}\n",
    "average_frequencies_df_train = pd.DataFrame(list(average_frequencies.items()), columns=['syscall', 'average_frequency'])\n",
    "average_frequencies_df_train = average_frequencies_df_train .sort_values(by='average_frequency', ascending=False)\n",
    "print(len(average_frequencies_df_train))\n",
    "print(average_frequencies_df_train.head(10))\n",
    "\n"
   ]
  },
  {
   "cell_type": "markdown",
   "metadata": {},
   "source": [
    "### Test Normal Data"
   ]
  },
  {
   "cell_type": "code",
   "execution_count": 46,
   "metadata": {},
   "outputs": [
    {
     "name": "stdout",
     "output_type": "stream",
     "text": [
      "60\n",
      "        syscall  average_frequency\n",
      "22  epoll_pwait            1166.46\n",
      "19    epoll_ctl            1047.66\n",
      "20         read            1035.92\n",
      "25   newfstatat            1025.00\n",
      "24        futex             984.14\n",
      "23       switch             948.95\n",
      "21    nanosleep             843.04\n",
      "15        fcntl             643.14\n",
      "18       openat             594.14\n",
      "17        close             532.66\n"
     ]
    }
   ],
   "source": [
    "test_normal_path = \"./data-test/CAShift-CSV/test-normal\"\n",
    "test_normal_file_number = 100\n",
    "\n",
    "all_frequencies = {}\n",
    "for i in range(test_normal_file_number):\n",
    "    test_df = pd.read_csv(f\"{test_normal_path}/normal_{i}.csv\")\n",
    "    frequency = test_df['SysCall'].value_counts(ascending=True)\n",
    "    for syscall, freq in frequency.items():\n",
    "        if syscall not in all_frequencies:\n",
    "            all_frequencies[syscall] = []\n",
    "        all_frequencies[syscall].append(freq)\n",
    "\n",
    "# print(all_frequencies)\n",
    "pd.set_option('display.max_rows', None)\n",
    "pd.set_option('display.max_columns', None)\n",
    "average_frequencies = {syscall: sum(freq_list) / test_normal_file_number for syscall, freq_list in all_frequencies.items()}\n",
    "average_frequencies_df_test = pd.DataFrame(list(average_frequencies.items()), columns=['syscall', 'average_frequency'])\n",
    "average_frequencies_df_test = average_frequencies_df_test.sort_values(by='average_frequency', ascending=False)\n",
    "print(len(average_frequencies_df_test))\n",
    "print(average_frequencies_df_test.head(10))"
   ]
  },
  {
   "cell_type": "markdown",
   "metadata": {},
   "source": [
    "### Compare Train Normal and Test Normal"
   ]
  },
  {
   "cell_type": "code",
   "execution_count": 47,
   "metadata": {},
   "outputs": [
    {
     "name": "stdout",
     "output_type": "stream",
     "text": [
      "Unique to Train:\n",
      "  syscall  average_frequency\n",
      "4    dup3              0.002\n",
      "\n",
      "\n",
      "Unique to Test:\n",
      "None\n"
     ]
    }
   ],
   "source": [
    "# Compare difference\n",
    "unique_to_df1 = average_frequencies_df_train[~average_frequencies_df_train['syscall'].isin(average_frequencies_df_test['syscall'])]\n",
    "unique_to_df2 = average_frequencies_df_test[~average_frequencies_df_test['syscall'].isin(average_frequencies_df_train['syscall'])]\n",
    "print(\"Unique to Train:\")\n",
    "print(unique_to_df1)\n",
    "print('\\n')\n",
    "print(\"Unique to Test:\")\n",
    "if len(unique_to_df2) > 0:\n",
    "    print(unique_to_df2)\n",
    "else: \n",
    "    print(\"None\")"
   ]
  },
  {
   "cell_type": "markdown",
   "metadata": {},
   "source": [
    "### Test Attack Data"
   ]
  },
  {
   "cell_type": "code",
   "execution_count": null,
   "metadata": {},
   "outputs": [
    {
     "name": "stdout",
     "output_type": "stream",
     "text": [
      "65\n",
      "        syscall  average_frequency\n",
      "23   newfstatat            1503.60\n",
      "22        futex            1088.94\n",
      "18         read            1026.23\n",
      "19  epoll_pwait             965.83\n",
      "17    epoll_ctl             927.18\n",
      "21       switch             875.30\n",
      "11        fcntl             726.40\n",
      "14       openat             671.60\n",
      "20    nanosleep             620.91\n",
      "13        close             610.70\n"
     ]
    }
   ],
   "source": [
    "attack_id = \"CVE_2016-10033\"\n",
    "attack_path = \"./data-test/CAShift-CSV/test-attack\"\n",
    "attack_number = 100\n",
    "\n",
    "all_frequencies = {}\n",
    "for i in range(attack_number):\n",
    "    test_df = pd.read_csv(f\"{attack_path}/{attack_id}_{i}.csv\")\n",
    "    frequency = test_df['SysCall'].value_counts(ascending=True)\n",
    "    for syscall, freq in frequency.items():\n",
    "        if syscall not in all_frequencies:\n",
    "            all_frequencies[syscall] = []\n",
    "        all_frequencies[syscall].append(freq)\n",
    "\n",
    "# print(all_frequencies)\n",
    "pd.set_option('display.max_rows', None)\n",
    "pd.set_option('display.max_columns', None)\n",
    "average_frequencies = {syscall: sum(freq_list) / attack_number for syscall, freq_list in all_frequencies.items()}\n",
    "average_frequencies_df_test_attack = pd.DataFrame(list(average_frequencies.items()), columns=['syscall', 'average_frequency'])\n",
    "average_frequencies_df_test_attack = average_frequencies_df_test_attack.sort_values(by='average_frequency', ascending=False)\n",
    "print(len(average_frequencies_df_test_attack))\n",
    "print(average_frequencies_df_test_attack.head(10))"
   ]
  },
  {
   "cell_type": "markdown",
   "metadata": {},
   "source": [
    "### Compare Train Normal and Test Attack"
   ]
  },
  {
   "cell_type": "code",
   "execution_count": 49,
   "metadata": {},
   "outputs": [
    {
     "name": "stdout",
     "output_type": "stream",
     "text": [
      "Unique to Train:\n",
      "              syscall  average_frequency\n",
      "56        sigaltstack             11.872\n",
      "52             capget              0.958\n",
      "53      epoll_create1              0.958\n",
      "51           readlink              0.958\n",
      "50  sched_getaffinity              0.958\n",
      "4                dup3              0.002\n",
      "\n",
      "\n",
      "Unique to Attack:\n",
      "            syscall  average_frequency\n",
      "46             rseq               5.44\n",
      "42            ioctl               3.88\n",
      "43          fstatfs               3.60\n",
      "38      setpriority               1.80\n",
      "36      getpriority               1.80\n",
      "39           fchdir               1.80\n",
      "30       epoll_wait               0.08\n",
      "31  timerfd_settime               0.06\n",
      "33        ftruncate               0.02\n",
      "64          recvmsg               0.02\n"
     ]
    }
   ],
   "source": [
    "# Compare difference\n",
    "unique_to_df1 = average_frequencies_df_train[~average_frequencies_df_train['syscall'].isin(average_frequencies_df_test_attack['syscall'])]\n",
    "unique_to_df2 = average_frequencies_df_test_attack[~average_frequencies_df_test_attack['syscall'].isin(average_frequencies_df_train['syscall'])]\n",
    "print(\"Unique to Train:\")\n",
    "print(unique_to_df1)\n",
    "print('\\n')\n",
    "print(\"Unique to Attack:\")\n",
    "if len(unique_to_df2) > 0:\n",
    "    print(unique_to_df2)\n",
    "else: \n",
    "    print(\"None\")"
   ]
  },
  {
   "cell_type": "code",
   "execution_count": 29,
   "metadata": {},
   "outputs": [
    {
     "name": "stdout",
     "output_type": "stream",
     "text": [
      "62\n",
      "        syscall  average_frequency\n",
      "17         read            1152.22\n",
      "16    epoll_ctl            1145.95\n",
      "15        fcntl            1072.68\n",
      "13       openat             981.85\n",
      "10   newfstatat             980.24\n",
      "12        close             854.10\n",
      "21        futex             814.97\n",
      "19  epoll_pwait             808.80\n",
      "20       switch             718.64\n",
      "18    nanosleep             452.21\n"
     ]
    }
   ],
   "source": [
    "attack_id = \"CVE_2019-5736\"\n",
    "attack_path = \"./data-test/CAShift-CSV/test-attack\"\n",
    "attack_number = 100\n",
    "\n",
    "all_frequencies = {}\n",
    "for i in range(attack_number):\n",
    "    test_df = pd.read_csv(f\"{attack_path}/{attack_id}_{i}.csv\")\n",
    "    frequency = test_df['SysCall'].value_counts(ascending=True)\n",
    "    for syscall, freq in frequency.items():\n",
    "        if syscall not in all_frequencies:\n",
    "            all_frequencies[syscall] = []\n",
    "        all_frequencies[syscall].append(freq)\n",
    "\n",
    "# print(all_frequencies)\n",
    "pd.set_option('display.max_rows', None)\n",
    "pd.set_option('display.max_columns', None)\n",
    "average_frequencies = {syscall: sum(freq_list) / attack_number for syscall, freq_list in all_frequencies.items()}\n",
    "average_frequencies_df_test_attack2 = pd.DataFrame(list(average_frequencies.items()), columns=['syscall', 'average_frequency'])\n",
    "average_frequencies_df_test_attack2 = average_frequencies_df_test_attack2.sort_values(by='average_frequency', ascending=False)\n",
    "print(len(average_frequencies_df_test_attack2))\n",
    "print(average_frequencies_df_test_attack2.head(10))"
   ]
  },
  {
   "cell_type": "code",
   "execution_count": 43,
   "metadata": {},
   "outputs": [
    {
     "name": "stdout",
     "output_type": "stream",
     "text": [
      "Unique to Train:\n",
      "              syscall  average_frequency\n",
      "56        sigaltstack              11.28\n",
      "52             capget               0.92\n",
      "53      epoll_create1               0.92\n",
      "51           readlink               0.92\n",
      "50  sched_getaffinity               0.92\n",
      "8               flock               0.04\n",
      "4                dup3               0.02\n",
      "\n",
      "\n",
      "Unique to Attack:\n",
      "            syscall  average_frequency\n",
      "42             rseq              12.00\n",
      "34          fstatfs               8.00\n",
      "36            ioctl               8.00\n",
      "29           fchdir               4.00\n",
      "27      getpriority               4.00\n",
      "26      setpriority               4.00\n",
      "8        epoll_wait               1.40\n",
      "61  timerfd_settime               0.02\n"
     ]
    }
   ],
   "source": [
    "# Compare difference\n",
    "unique_to_df1 = average_frequencies_df_train[~average_frequencies_df_train['syscall'].isin(average_frequencies_df_test_attack2['syscall'])]\n",
    "unique_to_df2 = average_frequencies_df_test_attack2[~average_frequencies_df_test_attack2['syscall'].isin(average_frequencies_df_train['syscall'])]\n",
    "print(\"Unique to Train:\")\n",
    "print(unique_to_df1)\n",
    "print('\\n')\n",
    "print(\"Unique to Attack:\")\n",
    "if len(unique_to_df2) > 0:\n",
    "    print(unique_to_df2)\n",
    "else: \n",
    "    print(\"None\")"
   ]
  }
 ],
 "metadata": {
  "kernelspec": {
   "display_name": "cloudattack",
   "language": "python",
   "name": "python3"
  },
  "language_info": {
   "codemirror_mode": {
    "name": "ipython",
    "version": 3
   },
   "file_extension": ".py",
   "mimetype": "text/x-python",
   "name": "python",
   "nbconvert_exporter": "python",
   "pygments_lexer": "ipython3",
   "version": "3.9.19"
  }
 },
 "nbformat": 4,
 "nbformat_minor": 2
}
